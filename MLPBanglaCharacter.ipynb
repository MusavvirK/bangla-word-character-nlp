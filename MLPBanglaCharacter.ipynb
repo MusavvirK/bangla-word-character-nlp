{
  "nbformat": 4,
  "nbformat_minor": 0,
  "metadata": {
    "colab": {
      "name": "MLPBanglaCharacter.ipynb",
      "provenance": [],
      "collapsed_sections": []
    },
    "kernelspec": {
      "name": "python3",
      "display_name": "Python 3"
    },
    "accelerator": "GPU"
  },
  "cells": [
    {
      "cell_type": "code",
      "metadata": {
        "id": "0Pd2N0ES1j10",
        "colab": {
          "base_uri": "https://localhost:8080/",
          "height": 339
        },
        "outputId": "9696abec-8d61-4964-e5c1-c1afc137a2b7"
      },
      "source": [
        "import numpy as np\n",
        "import pandas as pd\n",
        "\n",
        "from keras.models import Sequential\n",
        "from keras.layers.core import Dense, Dropout, Activation\n",
        "from keras.optimizers import Adam, SGD, RMSprop\n",
        "import matplotlib.pyplot as plt\n",
        "from sklearn.metrics import roc_curve, auc\n",
        "from sklearn.model_selection import train_test_split\n",
        "\n",
        "def wordCharacterToUnicode(arr, arrOutput):\n",
        "  for i in range(0, len(arr)):\n",
        "    temp = arr[i];\n",
        "    count = 0\n",
        "    for j in temp:\n",
        "      arrOutput[i][count]= ord(j) - 2400\n",
        "      count = count + 1\n",
        "\n",
        "def labelToDataframe(arry, arryoutput):\n",
        "  for i in range (0, len(arry)):\n",
        "    for j in range (0, len(arry[i])):\n",
        "      temp = arry[i][j]\n",
        "      if (temp!= None):\n",
        "        arryoutput.loc[i][temp] = 1\n",
        "\n",
        "data = pd.read_csv('inputbn.csv', sep=',', engine='python', header=0)\n",
        "data = data.to_numpy()\n",
        "\n",
        "x_sample = data[:,0]\n",
        "y_sample = data[:,1:10]\n",
        "temp = np.zeros(shape = (100, 46))\n",
        "\n",
        "X = np.zeros(shape = (100, 10))\n",
        "wordCharacterToUnicode(x_sample, X)\n",
        "temp = np.zeros(shape = (100, 46))\n",
        "df = pd.DataFrame(temp, columns=['অ','আ','ই','ঈ','উ','ঊ','ঋ','এ','ঐ','ও','ঔ','ক','খ','গ','ঘ','ঙ','চ','ছ','জ','ঝ','ঞ','ট','ঠ','ড','ঢ','ণ','ত','থ','দ','ধ','ন','প','ফ','ব','ভ','ম','য','র','ল','শ','ষ','স','হ','ড়','ঢ়','য়'])\n",
        "labelToDataframe(y_sample, df)\n",
        "print(X[0:5])\n",
        "print(df.head(5))\n",
        "\n",
        "trainX, testX, trainy, testy = train_test_split(X, df, test_size=0.4)"
      ],
      "execution_count": null,
      "outputs": [
        {
          "output_type": "stream",
          "text": [
            "Using TensorFlow backend.\n"
          ],
          "name": "stderr"
        },
        {
          "output_type": "display_data",
          "data": {
            "text/html": [
              "<p style=\"color: red;\">\n",
              "The default version of TensorFlow in Colab will soon switch to TensorFlow 2.x.<br>\n",
              "We recommend you <a href=\"https://www.tensorflow.org/guide/migrate\" target=\"_blank\">upgrade</a> now \n",
              "or ensure your notebook will continue to use TensorFlow 1.x via the <code>%tensorflow_version 1.x</code> magic:\n",
              "<a href=\"https://colab.research.google.com/notebooks/tensorflow_version.ipynb\" target=\"_blank\">more info</a>.</p>\n"
            ],
            "text/plain": [
              "<IPython.core.display.HTML object>"
            ]
          },
          "metadata": {
            "tags": []
          }
        },
        {
          "output_type": "stream",
          "text": [
            "[[ 76.  82.  94.   0.   0.   0.   0.   0.   0.   0.]\n",
            " [ 53.  69.  94.   0.   0.   0.   0.   0.   0.   0.]\n",
            " [ 39.  82.  95.  86.   0.   0.   0.   0.   0.   0.]\n",
            " [ 76.  94.  82.  95.  53.  94.   0.   0.   0.   0.]\n",
            " [ 78.  72. 103.   0.   0.   0.   0.   0.   0.   0.]]\n",
            "     অ    আ    ই    ঈ    উ    ঊ    ঋ  ...    শ    ষ    স    হ    ড়    ঢ়    য়\n",
            "0  0.0  1.0  0.0  0.0  0.0  0.0  0.0  ...  0.0  0.0  0.0  0.0  0.0  0.0  0.0\n",
            "1  0.0  1.0  0.0  0.0  0.0  0.0  0.0  ...  0.0  0.0  0.0  0.0  0.0  0.0  0.0\n",
            "2  0.0  0.0  1.0  0.0  0.0  0.0  0.0  ...  1.0  0.0  0.0  0.0  0.0  0.0  0.0\n",
            "3  0.0  1.0  1.0  0.0  0.0  0.0  0.0  ...  0.0  0.0  0.0  0.0  0.0  0.0  0.0\n",
            "4  0.0  0.0  0.0  0.0  0.0  0.0  0.0  ...  0.0  0.0  0.0  0.0  0.0  0.0  0.0\n",
            "\n",
            "[5 rows x 46 columns]\n"
          ],
          "name": "stdout"
        }
      ]
    },
    {
      "cell_type": "code",
      "metadata": {
        "id": "HKRTV5FTty2q",
        "colab": {
          "base_uri": "https://localhost:8080/",
          "height": 1000
        },
        "outputId": "ddb266cd-1f5f-4ec9-f313-8462b1a676b6"
      },
      "source": [
        "\n",
        "#define model\n",
        "model = Sequential()\n",
        "model.add(Dense(128, input_shape=(10,), activation='relu'))\n",
        "model.add(Dense(70, activation='relu'))\n",
        "model.add(Dense(46, activation='sigmoid'))\n",
        "model.summary()\n",
        "\n",
        "# compile model\n",
        "opt = Adam(lr=0.001)\n",
        "model.compile(loss='binary_crossentropy', optimizer=opt, metrics=['accuracy'])\n",
        "\n",
        "#fit model (train)\n",
        "history = model.fit(trainX, trainy, validation_data=(testX, testy), epochs=100, verbose=2)"
      ],
      "execution_count": null,
      "outputs": [
        {
          "output_type": "stream",
          "text": [
            "WARNING:tensorflow:From /usr/local/lib/python3.6/dist-packages/keras/backend/tensorflow_backend.py:66: The name tf.get_default_graph is deprecated. Please use tf.compat.v1.get_default_graph instead.\n",
            "\n",
            "WARNING:tensorflow:From /usr/local/lib/python3.6/dist-packages/keras/backend/tensorflow_backend.py:541: The name tf.placeholder is deprecated. Please use tf.compat.v1.placeholder instead.\n",
            "\n",
            "WARNING:tensorflow:From /usr/local/lib/python3.6/dist-packages/keras/backend/tensorflow_backend.py:4432: The name tf.random_uniform is deprecated. Please use tf.random.uniform instead.\n",
            "\n",
            "Model: \"sequential_1\"\n",
            "_________________________________________________________________\n",
            "Layer (type)                 Output Shape              Param #   \n",
            "=================================================================\n",
            "dense_1 (Dense)              (None, 128)               1408      \n",
            "_________________________________________________________________\n",
            "dense_2 (Dense)              (None, 70)                9030      \n",
            "_________________________________________________________________\n",
            "dense_3 (Dense)              (None, 46)                3266      \n",
            "=================================================================\n",
            "Total params: 13,704\n",
            "Trainable params: 13,704\n",
            "Non-trainable params: 0\n",
            "_________________________________________________________________\n",
            "WARNING:tensorflow:From /usr/local/lib/python3.6/dist-packages/keras/optimizers.py:793: The name tf.train.Optimizer is deprecated. Please use tf.compat.v1.train.Optimizer instead.\n",
            "\n",
            "WARNING:tensorflow:From /usr/local/lib/python3.6/dist-packages/keras/backend/tensorflow_backend.py:3657: The name tf.log is deprecated. Please use tf.math.log instead.\n",
            "\n",
            "WARNING:tensorflow:From /usr/local/lib/python3.6/dist-packages/tensorflow_core/python/ops/nn_impl.py:183: where (from tensorflow.python.ops.array_ops) is deprecated and will be removed in a future version.\n",
            "Instructions for updating:\n",
            "Use tf.where in 2.0, which has the same broadcast rule as np.where\n",
            "WARNING:tensorflow:From /usr/local/lib/python3.6/dist-packages/keras/backend/tensorflow_backend.py:1033: The name tf.assign_add is deprecated. Please use tf.compat.v1.assign_add instead.\n",
            "\n",
            "WARNING:tensorflow:From /usr/local/lib/python3.6/dist-packages/keras/backend/tensorflow_backend.py:1020: The name tf.assign is deprecated. Please use tf.compat.v1.assign instead.\n",
            "\n",
            "WARNING:tensorflow:From /usr/local/lib/python3.6/dist-packages/keras/backend/tensorflow_backend.py:3005: The name tf.Session is deprecated. Please use tf.compat.v1.Session instead.\n",
            "\n",
            "Train on 60 samples, validate on 40 samples\n",
            "Epoch 1/100\n",
            "WARNING:tensorflow:From /usr/local/lib/python3.6/dist-packages/keras/backend/tensorflow_backend.py:190: The name tf.get_default_session is deprecated. Please use tf.compat.v1.get_default_session instead.\n",
            "\n",
            "WARNING:tensorflow:From /usr/local/lib/python3.6/dist-packages/keras/backend/tensorflow_backend.py:197: The name tf.ConfigProto is deprecated. Please use tf.compat.v1.ConfigProto instead.\n",
            "\n",
            "WARNING:tensorflow:From /usr/local/lib/python3.6/dist-packages/keras/backend/tensorflow_backend.py:207: The name tf.global_variables is deprecated. Please use tf.compat.v1.global_variables instead.\n",
            "\n",
            "WARNING:tensorflow:From /usr/local/lib/python3.6/dist-packages/keras/backend/tensorflow_backend.py:216: The name tf.is_variable_initialized is deprecated. Please use tf.compat.v1.is_variable_initialized instead.\n",
            "\n",
            "WARNING:tensorflow:From /usr/local/lib/python3.6/dist-packages/keras/backend/tensorflow_backend.py:223: The name tf.variables_initializer is deprecated. Please use tf.compat.v1.variables_initializer instead.\n",
            "\n",
            " - 9s - loss: 5.8822 - acc: 0.4341 - val_loss: 4.8450 - val_acc: 0.5054\n",
            "Epoch 2/100\n",
            " - 0s - loss: 4.5255 - acc: 0.5167 - val_loss: 3.6922 - val_acc: 0.5897\n",
            "Epoch 3/100\n",
            " - 0s - loss: 3.3783 - acc: 0.6134 - val_loss: 2.7362 - val_acc: 0.6685\n",
            "Epoch 4/100\n",
            " - 0s - loss: 2.4649 - acc: 0.6949 - val_loss: 2.0416 - val_acc: 0.7272\n",
            "Epoch 5/100\n",
            " - 0s - loss: 1.8106 - acc: 0.7493 - val_loss: 1.5750 - val_acc: 0.7810\n",
            "Epoch 6/100\n",
            " - 0s - loss: 1.4086 - acc: 0.8011 - val_loss: 1.2985 - val_acc: 0.8250\n",
            "Epoch 7/100\n",
            " - 0s - loss: 1.1625 - acc: 0.8312 - val_loss: 1.1194 - val_acc: 0.8446\n",
            "Epoch 8/100\n",
            " - 0s - loss: 1.0195 - acc: 0.8587 - val_loss: 0.9981 - val_acc: 0.8641\n",
            "Epoch 9/100\n",
            " - 0s - loss: 0.9081 - acc: 0.8725 - val_loss: 0.8869 - val_acc: 0.8799\n",
            "Epoch 10/100\n",
            " - 0s - loss: 0.8102 - acc: 0.8880 - val_loss: 0.8167 - val_acc: 0.8913\n",
            "Epoch 11/100\n",
            " - 0s - loss: 0.7692 - acc: 0.8960 - val_loss: 0.7940 - val_acc: 0.9022\n",
            "Epoch 12/100\n",
            " - 0s - loss: 0.7644 - acc: 0.8975 - val_loss: 0.7806 - val_acc: 0.9027\n",
            "Epoch 13/100\n",
            " - 0s - loss: 0.7531 - acc: 0.9007 - val_loss: 0.7625 - val_acc: 0.9016\n",
            "Epoch 14/100\n",
            " - 0s - loss: 0.7347 - acc: 0.9025 - val_loss: 0.7493 - val_acc: 0.9016\n",
            "Epoch 15/100\n",
            " - 0s - loss: 0.7157 - acc: 0.9025 - val_loss: 0.7454 - val_acc: 0.8940\n",
            "Epoch 16/100\n",
            " - 0s - loss: 0.7042 - acc: 0.9040 - val_loss: 0.7437 - val_acc: 0.8935\n",
            "Epoch 17/100\n",
            " - 0s - loss: 0.6922 - acc: 0.9029 - val_loss: 0.7376 - val_acc: 0.8935\n",
            "Epoch 18/100\n",
            " - 0s - loss: 0.6747 - acc: 0.9029 - val_loss: 0.7271 - val_acc: 0.8967\n",
            "Epoch 19/100\n",
            " - 0s - loss: 0.6574 - acc: 0.9025 - val_loss: 0.7107 - val_acc: 0.8973\n",
            "Epoch 20/100\n",
            " - 0s - loss: 0.6358 - acc: 0.9062 - val_loss: 0.6962 - val_acc: 0.8973\n",
            "Epoch 21/100\n",
            " - 0s - loss: 0.6213 - acc: 0.9043 - val_loss: 0.6849 - val_acc: 0.8984\n",
            "Epoch 22/100\n",
            " - 0s - loss: 0.6111 - acc: 0.9058 - val_loss: 0.6752 - val_acc: 0.8951\n",
            "Epoch 23/100\n",
            " - 0s - loss: 0.5996 - acc: 0.9076 - val_loss: 0.6704 - val_acc: 0.8967\n",
            "Epoch 24/100\n",
            " - 0s - loss: 0.5898 - acc: 0.9043 - val_loss: 0.6695 - val_acc: 0.8940\n",
            "Epoch 25/100\n",
            " - 0s - loss: 0.5849 - acc: 0.9069 - val_loss: 0.6699 - val_acc: 0.8967\n",
            "Epoch 26/100\n",
            " - 0s - loss: 0.5801 - acc: 0.9087 - val_loss: 0.6671 - val_acc: 0.9016\n",
            "Epoch 27/100\n",
            " - 0s - loss: 0.5731 - acc: 0.9087 - val_loss: 0.6595 - val_acc: 0.9038\n",
            "Epoch 28/100\n",
            " - 0s - loss: 0.5647 - acc: 0.9094 - val_loss: 0.6514 - val_acc: 0.9011\n",
            "Epoch 29/100\n",
            " - 0s - loss: 0.5570 - acc: 0.9134 - val_loss: 0.6453 - val_acc: 0.9027\n",
            "Epoch 30/100\n",
            " - 0s - loss: 0.5518 - acc: 0.9141 - val_loss: 0.6401 - val_acc: 0.9043\n",
            "Epoch 31/100\n",
            " - 0s - loss: 0.5463 - acc: 0.9145 - val_loss: 0.6342 - val_acc: 0.9049\n",
            "Epoch 32/100\n",
            " - 0s - loss: 0.5409 - acc: 0.9156 - val_loss: 0.6287 - val_acc: 0.9087\n",
            "Epoch 33/100\n",
            " - 0s - loss: 0.5352 - acc: 0.9174 - val_loss: 0.6220 - val_acc: 0.9071\n",
            "Epoch 34/100\n",
            " - 0s - loss: 0.5294 - acc: 0.9174 - val_loss: 0.6159 - val_acc: 0.9065\n",
            "Epoch 35/100\n",
            " - 0s - loss: 0.5242 - acc: 0.9174 - val_loss: 0.6105 - val_acc: 0.9054\n",
            "Epoch 36/100\n",
            " - 0s - loss: 0.5196 - acc: 0.9170 - val_loss: 0.6063 - val_acc: 0.9065\n",
            "Epoch 37/100\n",
            " - 0s - loss: 0.5149 - acc: 0.9178 - val_loss: 0.6034 - val_acc: 0.9065\n",
            "Epoch 38/100\n",
            " - 0s - loss: 0.5106 - acc: 0.9167 - val_loss: 0.6005 - val_acc: 0.9076\n",
            "Epoch 39/100\n",
            " - 0s - loss: 0.5069 - acc: 0.9167 - val_loss: 0.5975 - val_acc: 0.9103\n",
            "Epoch 40/100\n",
            " - 0s - loss: 0.5029 - acc: 0.9192 - val_loss: 0.5957 - val_acc: 0.9082\n",
            "Epoch 41/100\n",
            " - 0s - loss: 0.4994 - acc: 0.9170 - val_loss: 0.5925 - val_acc: 0.9082\n",
            "Epoch 42/100\n",
            " - 0s - loss: 0.4963 - acc: 0.9196 - val_loss: 0.5901 - val_acc: 0.9103\n",
            "Epoch 43/100\n",
            " - 0s - loss: 0.4929 - acc: 0.9203 - val_loss: 0.5876 - val_acc: 0.9087\n",
            "Epoch 44/100\n",
            " - 0s - loss: 0.4902 - acc: 0.9236 - val_loss: 0.5865 - val_acc: 0.9076\n",
            "Epoch 45/100\n",
            " - 0s - loss: 0.4879 - acc: 0.9217 - val_loss: 0.5844 - val_acc: 0.9092\n",
            "Epoch 46/100\n",
            " - 0s - loss: 0.4851 - acc: 0.9228 - val_loss: 0.5833 - val_acc: 0.9092\n",
            "Epoch 47/100\n",
            " - 0s - loss: 0.4823 - acc: 0.9228 - val_loss: 0.5822 - val_acc: 0.9092\n",
            "Epoch 48/100\n",
            " - 0s - loss: 0.4801 - acc: 0.9232 - val_loss: 0.5813 - val_acc: 0.9103\n",
            "Epoch 49/100\n",
            " - 0s - loss: 0.4781 - acc: 0.9268 - val_loss: 0.5809 - val_acc: 0.9103\n",
            "Epoch 50/100\n",
            " - 0s - loss: 0.4761 - acc: 0.9283 - val_loss: 0.5798 - val_acc: 0.9109\n",
            "Epoch 51/100\n",
            " - 0s - loss: 0.4738 - acc: 0.9283 - val_loss: 0.5797 - val_acc: 0.9103\n",
            "Epoch 52/100\n",
            " - 0s - loss: 0.4715 - acc: 0.9297 - val_loss: 0.5787 - val_acc: 0.9098\n",
            "Epoch 53/100\n",
            " - 0s - loss: 0.4696 - acc: 0.9304 - val_loss: 0.5771 - val_acc: 0.9082\n",
            "Epoch 54/100\n",
            " - 0s - loss: 0.4674 - acc: 0.9312 - val_loss: 0.5759 - val_acc: 0.9098\n",
            "Epoch 55/100\n",
            " - 0s - loss: 0.4655 - acc: 0.9312 - val_loss: 0.5756 - val_acc: 0.9082\n",
            "Epoch 56/100\n",
            " - 0s - loss: 0.4634 - acc: 0.9319 - val_loss: 0.5762 - val_acc: 0.9087\n",
            "Epoch 57/100\n",
            " - 0s - loss: 0.4618 - acc: 0.9312 - val_loss: 0.5762 - val_acc: 0.9082\n",
            "Epoch 58/100\n",
            " - 0s - loss: 0.4601 - acc: 0.9312 - val_loss: 0.5761 - val_acc: 0.9087\n",
            "Epoch 59/100\n",
            " - 0s - loss: 0.4584 - acc: 0.9344 - val_loss: 0.5746 - val_acc: 0.9087\n",
            "Epoch 60/100\n",
            " - 0s - loss: 0.4564 - acc: 0.9355 - val_loss: 0.5733 - val_acc: 0.9092\n",
            "Epoch 61/100\n",
            " - 0s - loss: 0.4547 - acc: 0.9355 - val_loss: 0.5713 - val_acc: 0.9087\n",
            "Epoch 62/100\n",
            " - 0s - loss: 0.4527 - acc: 0.9341 - val_loss: 0.5706 - val_acc: 0.9082\n",
            "Epoch 63/100\n",
            " - 0s - loss: 0.4507 - acc: 0.9362 - val_loss: 0.5714 - val_acc: 0.9092\n",
            "Epoch 64/100\n",
            " - 0s - loss: 0.4491 - acc: 0.9388 - val_loss: 0.5712 - val_acc: 0.9103\n",
            "Epoch 65/100\n",
            " - 0s - loss: 0.4477 - acc: 0.9373 - val_loss: 0.5697 - val_acc: 0.9120\n",
            "Epoch 66/100\n",
            " - 0s - loss: 0.4463 - acc: 0.9373 - val_loss: 0.5685 - val_acc: 0.9109\n",
            "Epoch 67/100\n",
            " - 0s - loss: 0.4446 - acc: 0.9380 - val_loss: 0.5666 - val_acc: 0.9087\n",
            "Epoch 68/100\n",
            " - 0s - loss: 0.4428 - acc: 0.9399 - val_loss: 0.5646 - val_acc: 0.9092\n",
            "Epoch 69/100\n",
            " - 0s - loss: 0.4412 - acc: 0.9377 - val_loss: 0.5632 - val_acc: 0.9098\n",
            "Epoch 70/100\n",
            " - 0s - loss: 0.4394 - acc: 0.9384 - val_loss: 0.5629 - val_acc: 0.9109\n",
            "Epoch 71/100\n",
            " - 0s - loss: 0.4379 - acc: 0.9399 - val_loss: 0.5634 - val_acc: 0.9098\n",
            "Epoch 72/100\n",
            " - 0s - loss: 0.4362 - acc: 0.9409 - val_loss: 0.5632 - val_acc: 0.9092\n",
            "Epoch 73/100\n",
            " - 0s - loss: 0.4348 - acc: 0.9413 - val_loss: 0.5620 - val_acc: 0.9098\n",
            "Epoch 74/100\n",
            " - 0s - loss: 0.4335 - acc: 0.9409 - val_loss: 0.5604 - val_acc: 0.9103\n",
            "Epoch 75/100\n",
            " - 0s - loss: 0.4318 - acc: 0.9402 - val_loss: 0.5594 - val_acc: 0.9076\n",
            "Epoch 76/100\n",
            " - 0s - loss: 0.4298 - acc: 0.9417 - val_loss: 0.5589 - val_acc: 0.9076\n",
            "Epoch 77/100\n",
            " - 0s - loss: 0.4287 - acc: 0.9431 - val_loss: 0.5586 - val_acc: 0.9065\n",
            "Epoch 78/100\n",
            " - 0s - loss: 0.4271 - acc: 0.9435 - val_loss: 0.5572 - val_acc: 0.9071\n",
            "Epoch 79/100\n",
            " - 0s - loss: 0.4254 - acc: 0.9431 - val_loss: 0.5559 - val_acc: 0.9071\n",
            "Epoch 80/100\n",
            " - 0s - loss: 0.4240 - acc: 0.9413 - val_loss: 0.5545 - val_acc: 0.9082\n",
            "Epoch 81/100\n",
            " - 0s - loss: 0.4224 - acc: 0.9406 - val_loss: 0.5538 - val_acc: 0.9076\n",
            "Epoch 82/100\n",
            " - 0s - loss: 0.4210 - acc: 0.9431 - val_loss: 0.5537 - val_acc: 0.9076\n",
            "Epoch 83/100\n",
            " - 0s - loss: 0.4195 - acc: 0.9460 - val_loss: 0.5537 - val_acc: 0.9065\n",
            "Epoch 84/100\n",
            " - 0s - loss: 0.4183 - acc: 0.9453 - val_loss: 0.5531 - val_acc: 0.9060\n",
            "Epoch 85/100\n",
            " - 0s - loss: 0.4167 - acc: 0.9457 - val_loss: 0.5512 - val_acc: 0.9060\n",
            "Epoch 86/100\n",
            " - 0s - loss: 0.4153 - acc: 0.9438 - val_loss: 0.5500 - val_acc: 0.9071\n",
            "Epoch 87/100\n",
            " - 0s - loss: 0.4136 - acc: 0.9453 - val_loss: 0.5501 - val_acc: 0.9076\n",
            "Epoch 88/100\n",
            " - 0s - loss: 0.4128 - acc: 0.9471 - val_loss: 0.5502 - val_acc: 0.9071\n",
            "Epoch 89/100\n",
            " - 0s - loss: 0.4116 - acc: 0.9467 - val_loss: 0.5497 - val_acc: 0.9071\n",
            "Epoch 90/100\n",
            " - 0s - loss: 0.4095 - acc: 0.9464 - val_loss: 0.5492 - val_acc: 0.9060\n",
            "Epoch 91/100\n",
            " - 0s - loss: 0.4085 - acc: 0.9471 - val_loss: 0.5489 - val_acc: 0.9071\n",
            "Epoch 92/100\n",
            " - 0s - loss: 0.4071 - acc: 0.9486 - val_loss: 0.5480 - val_acc: 0.9071\n",
            "Epoch 93/100\n",
            " - 0s - loss: 0.4059 - acc: 0.9486 - val_loss: 0.5462 - val_acc: 0.9082\n",
            "Epoch 94/100\n",
            " - 0s - loss: 0.4047 - acc: 0.9478 - val_loss: 0.5458 - val_acc: 0.9082\n",
            "Epoch 95/100\n",
            " - 0s - loss: 0.4035 - acc: 0.9482 - val_loss: 0.5461 - val_acc: 0.9076\n",
            "Epoch 96/100\n",
            " - 0s - loss: 0.4022 - acc: 0.9482 - val_loss: 0.5469 - val_acc: 0.9076\n",
            "Epoch 97/100\n",
            " - 0s - loss: 0.4009 - acc: 0.9493 - val_loss: 0.5469 - val_acc: 0.9065\n",
            "Epoch 98/100\n",
            " - 0s - loss: 0.3996 - acc: 0.9489 - val_loss: 0.5460 - val_acc: 0.9071\n",
            "Epoch 99/100\n",
            " - 0s - loss: 0.3985 - acc: 0.9486 - val_loss: 0.5446 - val_acc: 0.9076\n",
            "Epoch 100/100\n",
            " - 0s - loss: 0.3974 - acc: 0.9493 - val_loss: 0.5448 - val_acc: 0.9065\n"
          ],
          "name": "stdout"
        }
      ]
    },
    {
      "cell_type": "code",
      "metadata": {
        "id": "FLFg6dtcRNm0",
        "colab": {
          "base_uri": "https://localhost:8080/",
          "height": 72
        },
        "outputId": "042642de-1a97-4ed5-b4d1-ffcf05086110"
      },
      "source": [
        "# evaluate the keras model\n",
        "loss, accuracy = model.evaluate(X, df)\n",
        "print(\"\\nLoss: %.3f, Accuracy: %.2f%%\" % (loss, accuracy*100))"
      ],
      "execution_count": null,
      "outputs": [
        {
          "output_type": "stream",
          "text": [
            "100/100 [==============================] - 0s 104us/step\n",
            "\n",
            "Loss: 0.456, Accuracy: 93.33%\n"
          ],
          "name": "stdout"
        }
      ]
    },
    {
      "cell_type": "code",
      "metadata": {
        "id": "V8yh5xovnTc3",
        "colab": {
          "base_uri": "https://localhost:8080/",
          "height": 295
        },
        "outputId": "81532715-7c48-46e0-d85b-0fb4e0637258"
      },
      "source": [
        "history_dict = history.history\n",
        "history_dict.keys()\n",
        "\n",
        "import matplotlib.pyplot as plt\n",
        "\n",
        "acc = history_dict['acc']\n",
        "loss = history_dict['loss']\n",
        "epochs = range(1, len(loss) + 1)\n",
        "\n",
        "# \"bo\" is for \"blue dot\"\n",
        "plt.plot(epochs, loss, 'bo', label='Training loss')\n",
        "plt.title('Training loss')\n",
        "plt.xlabel('Epochs')\n",
        "plt.ylabel('Loss')\n",
        "plt.legend()\n",
        "\n",
        "plt.show()"
      ],
      "execution_count": null,
      "outputs": [
        {
          "output_type": "display_data",
          "data": {
            "image/png": "[encoded data removed]",
            "text/plain": [
              "<Figure size 432x288 with 1 Axes>"
            ]
          },
          "metadata": {
            "tags": []
          }
        }
      ]
    },
    {
      "cell_type": "code",
      "metadata": {
        "id": "TuBJBmzhnT8Q",
        "colab": {
          "base_uri": "https://localhost:8080/",
          "height": 295
        },
        "outputId": "ded1a14e-207d-4c14-81cf-66a8d88445e8"
      },
      "source": [
        "plt.clf()   # clear figure\n",
        "\n",
        "plt.plot(epochs, acc, color='darkblue', label='Training acc' )\n",
        "plt.title('Training accuracy')\n",
        "plt.xlabel('Epochs')\n",
        "plt.ylabel('Accuracy')\n",
        "plt.legend(loc='lower right')\n",
        "\n",
        "plt.show()\n"
      ],
      "execution_count": null,
      "outputs": [
        {
          "output_type": "display_data",
          "data": {
            "image/png": "[encoded data removed]",
            "text/plain": [
              "<Figure size 432x288 with 1 Axes>"
            ]
          },
          "metadata": {
            "tags": []
          }
        }
      ]
    },
    {
      "cell_type": "code",
      "metadata": {
        "id": "QunIjkornQxC",
        "colab": {
          "base_uri": "https://localhost:8080/",
          "height": 109
        },
        "outputId": "f5c6ffcd-2121-4950-a108-3ec5d06feda1"
      },
      "source": [
        "tempString = 'সরকারি'\n",
        "Y = [0,1,1,0,0,0,0,0,0,0,0,1,0,0,0,0,0,0,0,0,0,0,0,0,0,0,0,0,0,0,0,0,0,0,0,0,0,1,0,0,0,1,0,0,0,0]\n",
        "tempInput = np.zeros(shape=(1,10))\n",
        "count = 0\n",
        "for i in tempString:\n",
        "  tempInput[0][count]= ord(i) - 2400\n",
        "  count = count + 1\n",
        "print(tempInput)\n",
        "probabilities = model.predict(tempInput)\n",
        "prediction = pd.DataFrame(probabilities, columns=['অ','আ','ই','ঈ','উ','ঊ','ঋ','এ','ঐ','ও','ঔ','ক','খ','গ','ঘ','ঙ','চ','ছ','জ','ঝ','ঞ','ট','ঠ','ড','ঢ','ণ','ত','থ','দ','ধ','ন','প','ফ','ব','ভ','ম','য','র','ল','শ','ষ','স','হ','ড়','ঢ়','য়'])\n",
        "accuracy = np.mean(probabilities == Y)\n",
        "print(prediction)\n"
      ],
      "execution_count": null,
      "outputs": [
        {
          "output_type": "stream",
          "text": [
            "[[88. 80. 53. 94. 80. 95.  0.  0.  0.  0.]]\n",
            "          অ         আ         ই  ...             ড়             ঢ়    য়\n",
            "0  0.736223  0.880748  0.266705  ...  5.960464e-07  3.035145e-07  0.0\n",
            "\n",
            "[1 rows x 46 columns]\n"
          ],
          "name": "stdout"
        }
      ]
    }
  ]
}