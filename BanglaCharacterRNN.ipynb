{
  "nbformat": 4,
  "nbformat_minor": 0,
  "metadata": {
    "colab": {
      "name": "BanglaCharacterRNN.ipynb",
      "provenance": [],
      "collapsed_sections": []
    },
    "kernelspec": {
      "name": "python3",
      "display_name": "Python 3"
    },
    "accelerator": "GPU"
  },
  "cells": [
    {
      "cell_type": "code",
      "metadata": {
        "id": "3UFv62XbCJ7o",
        "colab": {
          "base_uri": "https://localhost:8080/",
          "height": 256
        },
        "outputId": "abdf6327-352c-497f-a250-253f06ed2335"
      },
      "source": [
        "from __future__ import absolute_import, division, print_function, unicode_literals\n",
        "\n",
        "import collections\n",
        "import matplotlib.pyplot as plt\n",
        "import numpy as np\n",
        "import pandas as pd\n",
        "\n",
        "from keras.models import Sequential\n",
        "from keras.layers import Dense, Dropout, Embedding, LSTM, Bidirectional\n",
        "from keras.optimizers import Adam, SGD\n",
        "import matplotlib.pyplot as plt\n",
        "from sklearn.metrics import roc_curve, auc\n",
        "from sklearn.model_selection import train_test_split\n",
        "\n",
        "import tensorflow as tf\n",
        "\n",
        "from tensorflow.keras import layers\n",
        "\n",
        "def wordCharacterToUnicode(arr, arrOutput):\n",
        "  for i in range(0, len(arr)):\n",
        "    temp = arr[i];\n",
        "    count = 0\n",
        "    for j in temp:\n",
        "      arrOutput[i][count]= ord(j) - 2400\n",
        "      count = count + 1\n",
        "\n",
        "def labelToDataframe(arry, arryoutput):\n",
        "  for i in range (0, len(arry)):\n",
        "    for j in range (0, len(arry[i])):\n",
        "      temp = arry[i][j]\n",
        "      if (temp!= None):\n",
        "        arryoutput.loc[i][temp] = 1\n",
        "\n",
        "data = pd.read_csv('inputbn.csv', sep=',', engine='python', header=0)\n",
        "data = data.to_numpy()\n",
        "\n",
        "x_sample = data[:,0]\n",
        "y_sample = data[:,1:10]\n",
        "temp = np.zeros(shape = (100, 46))\n",
        "\n",
        "X = np.zeros(shape = (100, 10))\n",
        "wordCharacterToUnicode(x_sample, X)\n",
        "temp = np.zeros(shape = (100, 46))\n",
        "df = pd.DataFrame(temp, columns=['অ','আ','ই','ঈ','উ','ঊ','ঋ','এ','ঐ','ও','ঔ','ক','খ','গ','ঘ','ঙ','চ','ছ','জ','ঝ','ঞ','ট','ঠ','ড','ঢ','ণ','ত','থ','দ','ধ','ন','প','ফ','ব','ভ','ম','য','র','ল','শ','ষ','স','হ','ড়','ঢ়','য়'])\n",
        "labelToDataframe(y_sample, df)\n",
        "print(X[0:5])\n",
        "print(df.head(5))\n",
        "\n",
        "trainX, testX, trainy, testy = train_test_split(X, df, test_size=0.2)\n",
        "\n",
        "\n",
        "\n"
      ],
      "execution_count": null,
      "outputs": [
        {
          "output_type": "stream",
          "text": [
            "[[ 76.  82.  94.   0.   0.   0.   0.   0.   0.   0.]\n",
            " [ 53.  69.  94.   0.   0.   0.   0.   0.   0.   0.]\n",
            " [ 39.  82.  95.  86.   0.   0.   0.   0.   0.   0.]\n",
            " [ 76.  94.  82.  95.  53.  94.   0.   0.   0.   0.]\n",
            " [ 78.  72. 103.   0.   0.   0.   0.   0.   0.   0.]]\n",
            "     অ    আ    ই    ঈ    উ    ঊ    ঋ  ...    শ    ষ    স    হ    ড়    ঢ়    য়\n",
            "0  0.0  1.0  0.0  0.0  0.0  0.0  0.0  ...  0.0  0.0  0.0  0.0  0.0  0.0  0.0\n",
            "1  0.0  1.0  0.0  0.0  0.0  0.0  0.0  ...  0.0  0.0  0.0  0.0  0.0  0.0  0.0\n",
            "2  0.0  0.0  1.0  0.0  0.0  0.0  0.0  ...  1.0  0.0  0.0  0.0  0.0  0.0  0.0\n",
            "3  0.0  1.0  1.0  0.0  0.0  0.0  0.0  ...  0.0  0.0  0.0  0.0  0.0  0.0  0.0\n",
            "4  0.0  0.0  0.0  0.0  0.0  0.0  0.0  ...  0.0  0.0  0.0  0.0  0.0  0.0  0.0\n",
            "\n",
            "[5 rows x 46 columns]\n"
          ],
          "name": "stdout"
        }
      ]
    },
    {
      "cell_type": "code",
      "metadata": {
        "id": "bDkKOGSyEflY",
        "colab": {
          "base_uri": "https://localhost:8080/",
          "height": 1000
        },
        "outputId": "0877d663-c27a-478e-ea1f-c340b6110779"
      },
      "source": [
        "'''model = tf.keras.Sequential()\n",
        "model.add(layers.Embedding(801, 128, input_length=10))\n",
        "model.add(layers.Bidirectional(layers.LSTM(384, return_sequences=True)))\n",
        "model.add(layers.Bidirectional(layers.LSTM(192)))\n",
        "model.add(layers.Dense(46, activation='softmax'))'''\n",
        "\n",
        "model = tf.keras.Sequential()\n",
        "model.add(layers.Embedding(801, 128, input_length=10))\n",
        "model.add(layers.LSTM(192))\n",
        "model.add(layers.Dense(128, activation='relu'))\n",
        "model.add(layers.Dense(46, name='out_layer', activation='sigmoid'))\n",
        "\n",
        "# compile model\n",
        "model.compile('adam', 'binary_crossentropy', metrics=['accuracy'])\n",
        "\n",
        "#fit model (train)\n",
        "history = model.fit(trainX, trainy, validation_data=(testX, testy), epochs=33, verbose=2)\n",
        "\n",
        "model.summary()"
      ],
      "execution_count": null,
      "outputs": [
        {
          "output_type": "stream",
          "text": [
            "Train on 80 samples, validate on 20 samples\n",
            "Epoch 1/33\n",
            "80/80 - 1s - loss: 0.6909 - acc: 0.5671 - val_loss: 0.6828 - val_acc: 0.7326\n",
            "Epoch 2/33\n",
            "80/80 - 0s - loss: 0.6791 - acc: 0.7568 - val_loss: 0.6623 - val_acc: 0.8293\n",
            "Epoch 3/33\n",
            "80/80 - 0s - loss: 0.6542 - acc: 0.8389 - val_loss: 0.6115 - val_acc: 0.8587\n",
            "Epoch 4/33\n",
            "80/80 - 0s - loss: 0.5924 - acc: 0.8590 - val_loss: 0.4922 - val_acc: 0.8859\n",
            "Epoch 5/33\n",
            "80/80 - 0s - loss: 0.4639 - acc: 0.9005 - val_loss: 0.3358 - val_acc: 0.9228\n",
            "Epoch 6/33\n",
            "80/80 - 0s - loss: 0.3325 - acc: 0.9114 - val_loss: 0.2827 - val_acc: 0.9228\n",
            "Epoch 7/33\n",
            "80/80 - 0s - loss: 0.3041 - acc: 0.9128 - val_loss: 0.2663 - val_acc: 0.9272\n",
            "Epoch 8/33\n",
            "80/80 - 0s - loss: 0.2847 - acc: 0.9136 - val_loss: 0.2502 - val_acc: 0.9272\n",
            "Epoch 9/33\n",
            "80/80 - 0s - loss: 0.2649 - acc: 0.9136 - val_loss: 0.2451 - val_acc: 0.9272\n",
            "Epoch 10/33\n",
            "80/80 - 0s - loss: 0.2563 - acc: 0.9065 - val_loss: 0.2403 - val_acc: 0.9185\n",
            "Epoch 11/33\n",
            "80/80 - 0s - loss: 0.2496 - acc: 0.9065 - val_loss: 0.2342 - val_acc: 0.9272\n",
            "Epoch 12/33\n",
            "80/80 - 0s - loss: 0.2435 - acc: 0.9128 - val_loss: 0.2296 - val_acc: 0.9272\n",
            "Epoch 13/33\n",
            "80/80 - 0s - loss: 0.2392 - acc: 0.9136 - val_loss: 0.2279 - val_acc: 0.9272\n",
            "Epoch 14/33\n",
            "80/80 - 0s - loss: 0.2365 - acc: 0.9136 - val_loss: 0.2284 - val_acc: 0.9272\n",
            "Epoch 15/33\n",
            "80/80 - 0s - loss: 0.2358 - acc: 0.9136 - val_loss: 0.2286 - val_acc: 0.9272\n",
            "Epoch 16/33\n",
            "80/80 - 0s - loss: 0.2355 - acc: 0.9136 - val_loss: 0.2284 - val_acc: 0.9272\n",
            "Epoch 17/33\n",
            "80/80 - 0s - loss: 0.2345 - acc: 0.9136 - val_loss: 0.2273 - val_acc: 0.9272\n",
            "Epoch 18/33\n",
            "80/80 - 0s - loss: 0.2336 - acc: 0.9136 - val_loss: 0.2277 - val_acc: 0.9272\n",
            "Epoch 19/33\n",
            "80/80 - 0s - loss: 0.2331 - acc: 0.9136 - val_loss: 0.2283 - val_acc: 0.9272\n",
            "Epoch 20/33\n",
            "80/80 - 0s - loss: 0.2328 - acc: 0.9136 - val_loss: 0.2292 - val_acc: 0.9228\n",
            "Epoch 21/33\n",
            "80/80 - 0s - loss: 0.2327 - acc: 0.9130 - val_loss: 0.2296 - val_acc: 0.9272\n",
            "Epoch 22/33\n",
            "80/80 - 0s - loss: 0.2324 - acc: 0.9136 - val_loss: 0.2297 - val_acc: 0.9272\n",
            "Epoch 23/33\n",
            "80/80 - 0s - loss: 0.2324 - acc: 0.9136 - val_loss: 0.2297 - val_acc: 0.9272\n",
            "Epoch 24/33\n",
            "80/80 - 0s - loss: 0.2323 - acc: 0.9136 - val_loss: 0.2296 - val_acc: 0.9272\n",
            "Epoch 25/33\n",
            "80/80 - 0s - loss: 0.2321 - acc: 0.9136 - val_loss: 0.2295 - val_acc: 0.9272\n",
            "Epoch 26/33\n",
            "80/80 - 0s - loss: 0.2321 - acc: 0.9136 - val_loss: 0.2295 - val_acc: 0.9272\n",
            "Epoch 27/33\n",
            "80/80 - 0s - loss: 0.2320 - acc: 0.9136 - val_loss: 0.2288 - val_acc: 0.9272\n",
            "Epoch 28/33\n",
            "80/80 - 0s - loss: 0.2317 - acc: 0.9136 - val_loss: 0.2273 - val_acc: 0.9272\n",
            "Epoch 29/33\n",
            "80/80 - 0s - loss: 0.2317 - acc: 0.9136 - val_loss: 0.2265 - val_acc: 0.9272\n",
            "Epoch 30/33\n",
            "80/80 - 0s - loss: 0.2318 - acc: 0.9136 - val_loss: 0.2268 - val_acc: 0.9272\n",
            "Epoch 31/33\n",
            "80/80 - 0s - loss: 0.2320 - acc: 0.9136 - val_loss: 0.2271 - val_acc: 0.9272\n",
            "Epoch 32/33\n",
            "80/80 - 0s - loss: 0.2315 - acc: 0.9136 - val_loss: 0.2281 - val_acc: 0.9272\n",
            "Epoch 33/33\n",
            "80/80 - 0s - loss: 0.2315 - acc: 0.9136 - val_loss: 0.2296 - val_acc: 0.9272\n",
            "Model: \"sequential_6\"\n",
            "_________________________________________________________________\n",
            "Layer (type)                 Output Shape              Param #   \n",
            "=================================================================\n",
            "embedding_6 (Embedding)      (None, 10, 128)           102528    \n",
            "_________________________________________________________________\n",
            "lstm_10 (LSTM)               (None, 192)               246528    \n",
            "_________________________________________________________________\n",
            "dense_3 (Dense)              (None, 128)               24704     \n",
            "_________________________________________________________________\n",
            "out_layer (Dense)            (None, 46)                5934      \n",
            "=================================================================\n",
            "Total params: 379,694\n",
            "Trainable params: 379,694\n",
            "Non-trainable params: 0\n",
            "_________________________________________________________________\n"
          ],
          "name": "stdout"
        }
      ]
    },
    {
      "cell_type": "code",
      "metadata": {
        "id": "QxFhMH_QsQ61",
        "colab": {
          "base_uri": "https://localhost:8080/",
          "height": 72
        },
        "outputId": "01e9f160-8b6c-48e5-ed7e-13ee453290a9"
      },
      "source": [
        "# evaluate the keras model\n",
        "loss, accuracy = model.evaluate(X, df)\n",
        "print(\"\\nLoss: %.3f, Accuracy: %.2f%%\" % (loss, accuracy*100))"
      ],
      "execution_count": null,
      "outputs": [
        {
          "output_type": "stream",
          "text": [
            "100/100 [==============================] - 0s 222us/sample - loss: 0.2309 - acc: 0.9163\n",
            "\n",
            "Loss: 0.231, Accuracy: 91.63%\n"
          ],
          "name": "stdout"
        }
      ]
    },
    {
      "cell_type": "code",
      "metadata": {
        "id": "MIi7b9jC7nfk",
        "colab": {
          "base_uri": "https://localhost:8080/",
          "height": 295
        },
        "outputId": "51bc51ed-a5ec-476a-98d0-f09398a5aa78"
      },
      "source": [
        "history_dict = history.history\n",
        "history_dict.keys()\n",
        "\n",
        "import matplotlib.pyplot as plt\n",
        "\n",
        "acc = history_dict['acc']\n",
        "val_acc = history_dict['val_acc']\n",
        "loss = history_dict['loss']\n",
        "val_loss = history_dict['val_loss']\n",
        "epochs = range(1, len(loss) + 1)\n",
        "\n",
        "# \"bo\" is for \"blue dot\"\n",
        "plt.plot(epochs, loss, 'bo', label='Training Loss')\n",
        "#plt.plot(epochs, val_loss, label='Validation Loss')\n",
        "plt.title('Training loss')\n",
        "plt.xlabel('Epochs')\n",
        "plt.ylabel('Loss')\n",
        "plt.legend()\n",
        "\n",
        "plt.show()"
      ],
      "execution_count": null,
      "outputs": [
        {
          "output_type": "display_data",
          "data": {
            "image/png": "[encoded data removed]",
            "text/plain": [
              "<Figure size 432x288 with 1 Axes>"
            ]
          },
          "metadata": {
            "tags": []
          }
        }
      ]
    },
    {
      "cell_type": "code",
      "metadata": {
        "id": "-yUK07Di77zC",
        "colab": {
          "base_uri": "https://localhost:8080/",
          "height": 295
        },
        "outputId": "628629f3-748c-4a9a-b30f-eec71aa58070"
      },
      "source": [
        "plt.clf()   # clear figure\n",
        "\n",
        "plt.plot(epochs, acc, color='darkblue', label='Training acc' )\n",
        "plt.plot(epochs, val_acc, color='blue', label='Validation acc' )\n",
        "plt.title('Training accuracy')\n",
        "plt.xlabel('Epochs')\n",
        "plt.ylabel('Accuracy')\n",
        "plt.legend(loc='lower right')\n",
        "\n",
        "plt.show()\n"
      ],
      "execution_count": null,
      "outputs": [
        {
          "output_type": "display_data",
          "data": {
            "image/png": "[encoded data removed]",
            "text/plain": [
              "<Figure size 432x288 with 1 Axes>"
            ]
          },
          "metadata": {
            "tags": []
          }
        }
      ]
    },
    {
      "cell_type": "code",
      "metadata": {
        "id": "J5xN1vLzseAT",
        "colab": {
          "base_uri": "https://localhost:8080/",
          "height": 109
        },
        "outputId": "50cca935-c9b9-4e4c-f42b-ac36aa7170a0"
      },
      "source": [
        "tempString = 'সরকারি'\n",
        "Y = [0,1,1,0,0,0,0,0,0,0,0,1,0,0,0,0,0,0,0,0,0,0,0,0,0,0,0,0,0,0,0,0,0,0,0,0,0,1,0,0,0,1,0,0,0,0]\n",
        "tempInput = np.zeros(shape=(1,10))\n",
        "count = 0\n",
        "for i in tempString:\n",
        "  tempInput[0][count]= ord(i) - 2400\n",
        "  count = count + 1\n",
        "print(tempInput)\n",
        "probabilities = model.predict(tempInput)\n",
        "accuracy = np.mean(probabilities == Y)\n",
        "prediction = pd.DataFrame(probabilities, columns=['অ','আ','ই','ঈ','উ','ঊ','ঋ','এ','ঐ','ও','ঔ','ক','খ','গ','ঘ','ঙ','চ','ছ','জ','ঝ','ঞ','ট','ঠ','ড','ঢ','ণ','ত','থ','দ','ধ','ন','প','ফ','ব','ভ','ম','য','র','ল','শ','ষ','স','হ','ড়','ঢ়','য়'])\n",
        "print(prediction)"
      ],
      "execution_count": null,
      "outputs": [
        {
          "output_type": "stream",
          "text": [
            "[[88. 80. 53. 94. 80. 95.  0.  0.  0.  0.]]\n",
            "          অ         আ        ই  ...         ড়         ঢ়         য়\n",
            "0  0.052787  0.542426  0.36216  ...  0.040208  0.001353  0.047819\n",
            "\n",
            "[1 rows x 46 columns]\n"
          ],
          "name": "stdout"
        }
      ]
    }
  ]
}